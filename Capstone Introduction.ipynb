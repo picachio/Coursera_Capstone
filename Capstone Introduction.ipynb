{
    "nbformat_minor": 1, 
    "cells": [
        {
            "source": "# Exploring New York City and its Housing Prices", 
            "cell_type": "markdown", 
            "metadata": {
                "collapsed": true
            }
        }, 
        {
            "source": "## 1. Introduction", 
            "cell_type": "markdown", 
            "metadata": {}
        }, 
        {
            "source": "New York City, a.k.a. the Big Apple, is situated in northeastern U.S. and is the financial capital of the country. It hosts many neighborhoods within its five boroughs - Manhattan, Brooklyn, the Bronx, Queens, and Staten Island - and each of these boroughs exhibits its own lifestyle. New York City is heavily populated and ethinically diverse. In 2017, the city had an estimated population density of 28,491 inhabitants per square mile (11,000/km2) [1]. It is one of the most international cities in the country. \n\nNew York City boosts tremendous business opportunities, and is a global hub of business and commerce. Much of New York's business success is due to the real estate market [2], although the city is also a major center for many other types of business. The highly competitve busienss market in New York City has driven up its cost of living. Thus, new comers who wish to move into the city need to carefully analyze the costs and benefits asscociated with living in New York before making a serious financial commitment. Particularly, people who are interested in moving to New York City should understand the culturally diversed neighborhoods and their identifying characteristics, as well as the housing prices in each neighborhood. In addition, what features of a neighborhood are mostly likely to affect the housing price? Answers to these questions will help new comers make a more informed decision about where they should choose to live, given the tradeoffs between the lifestyle they are seeking for and the prices they have to pay for expensive living in the city. ", 
            "cell_type": "markdown", 
            "metadata": {}
        }, 
        {
            "source": "## 2. Business Problem", 
            "cell_type": "markdown", 
            "metadata": {}
        }, 
        {
            "source": "In this project, we will explore the neighborhoods in New York City, and explore how surrounding venues in each neighborhood may affect its housing prices. Specifically, we will ask the following questions.", 
            "cell_type": "markdown", 
            "metadata": {}
        }, 
        {
            "source": "1. How could we cluster neighborhoods in New York City using surrounding venues?\n2. Is there a relationship between the characterized clusters and housing prices in New York City?\n3. Is there a relationship between the surrounding venues and housing prices in New York City? If yes, which aspects of the venues are most likely to influence housing prices, and whether we can use venues to predict housing prices in NYC?", 
            "cell_type": "markdown", 
            "metadata": {}
        }, 
        {
            "source": "## 3. Description of the data", 
            "cell_type": "markdown", 
            "metadata": {}
        }, 
        {
            "source": "This study will use the following data to conduct empirical analysis and seek answers to the business questions identified in Section 2. \n* Coordinates data from Geocoder (https://geocoder.readthedocs.io/index.html) - coodinates data will allow us to locate venues on FourSquare API and map the neighborhood segments on a map\n* Venues in each neighborhood from FourSquare API - venue data from FourSquare can be used to explore and segment neighborhoods in NYC.\n* Average NYC condo prices by neighborhoods from CITYREALTY (https://en.wikipedia.org/wiki/New_York_City#Population_density) - data retrieved from CityRealty lists average prices for different types of condos (ranging from studio to 3-bedroom) aggregated by neighborboods in NYC. This project will use the average price of 2-bedroom condos, which is a common type selected by an average family.", 
            "cell_type": "markdown", 
            "metadata": {}
        }, 
        {
            "source": "### 3.1 Data Collection", 
            "cell_type": "markdown", 
            "metadata": {}
        }, 
        {
            "source": "We will go through the following procedure to collect the necessary data.\n\n* For each neighborhood, call Geocoder Python to get its coordinate.\n* Based on each neighborhood's coordinate, call FourSquare API to get the surrounding venues.\n* We will scrap the average price of 2-bedroom condos for each neighborhood from the CityRealty website.\n\nThe collected data will be put into 2 dimensional Pandas dataframes, with each row represents a neighborhood and each column describing the surrounding venues. We will combine data collected from different sources so that the average 2-bedroom condo price data is joined with neighborhood and venues data for further analysis. ", 
            "cell_type": "markdown", 
            "metadata": {}
        }, 
        {
            "source": "### 3.2 Using Data to Answer Business Problems", 
            "cell_type": "markdown", 
            "metadata": {}
        }, 
        {
            "source": "The following analyses will be performed to answer the questions listed in Seciton 2.\n\n* Cluster Analysis - used to explore and segment NYC neighborhoods\n* Correlation and linear regression analysis - used to identify the impacts of neighborhood clusters and venue types on 2-bedroom condo prices\n* Machine learning techniques - used to determine how well independent variables can be used to predict condo prices", 
            "cell_type": "markdown", 
            "metadata": {}
        }, 
        {
            "source": "### Reference:\n\n1. Wikipedia. Retrieved from https://en.wikipedia.org/wiki/New_York_City#Population_density\n2. \"Why New York Is The Best City for Small Business In America\" Forbes, 2018. Retrieved from https://www.forbes.com/sites/rohitarora/2018/05/04/why-new-york-is-the-best-city-for-small-business-in-america/#4c8ae2cf56b3", 
            "cell_type": "markdown", 
            "metadata": {}
        }, 
        {
            "execution_count": null, 
            "cell_type": "code", 
            "metadata": {}, 
            "outputs": [], 
            "source": ""
        }
    ], 
    "metadata": {
        "kernelspec": {
            "display_name": "Python 3.5", 
            "name": "python3", 
            "language": "python"
        }, 
        "language_info": {
            "mimetype": "text/x-python", 
            "nbconvert_exporter": "python", 
            "version": "3.5.5", 
            "name": "python", 
            "file_extension": ".py", 
            "pygments_lexer": "ipython3", 
            "codemirror_mode": {
                "version": 3, 
                "name": "ipython"
            }
        }
    }, 
    "nbformat": 4
}